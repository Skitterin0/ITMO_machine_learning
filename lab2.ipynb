{
 "nbformat": 4,
 "nbformat_minor": 0,
 "metadata": {
  "hide_input": false,
  "kernelspec": {
   "display_name": "Python 3",
   "language": "python",
   "name": "python3"
  },
  "language_info": {
   "codemirror_mode": {
    "name": "ipython",
    "version": 3
   },
   "file_extension": ".py",
   "mimetype": "text/x-python",
   "name": "python",
   "nbconvert_exporter": "python",
   "pygments_lexer": "ipython3",
   "version": "3.7.1"
  },
  "toc": {
   "base_numbering": 1,
   "nav_menu": {},
   "number_sections": true,
   "sideBar": true,
   "skip_h1_title": false,
   "title_cell": "Table of Contents",
   "title_sidebar": "Contents",
   "toc_cell": true,
   "toc_position": {},
   "toc_section_display": true,
   "toc_window_display": false
  },
  "varInspector": {
   "cols": {
    "lenName": 16,
    "lenType": 16,
    "lenVar": 40
   },
   "kernels_config": {
    "python": {
     "delete_cmd_postfix": "",
     "delete_cmd_prefix": "del ",
     "library": "var_list.py",
     "varRefreshCmd": "print(var_dic_list())"
    },
    "r": {
     "delete_cmd_postfix": ") ",
     "delete_cmd_prefix": "rm(",
     "library": "var_list.r",
     "varRefreshCmd": "cat(var_dic_list()) "
    }
   },
   "types_to_exclude": [
    "module",
    "function",
    "builtin_function_or_method",
    "instance",
    "_Feature"
   ],
   "window_display": false
  },
  "colab": {
   "provenance": []
  }
 },
 "cells": [
  {
   "cell_type": "code",
   "metadata": {
    "id": "bZ7J0si68JdT",
    "ExecuteTime": {
     "end_time": "2023-10-06T11:00:51.340799200Z",
     "start_time": "2023-10-06T11:00:48.171162800Z"
    }
   },
   "source": [
    "import pandas as pd\n",
    "import numpy as np"
   ],
   "execution_count": 2,
   "outputs": []
  },
  {
   "cell_type": "markdown",
   "metadata": {
    "id": "xjvL0IIG8Jd0"
   },
   "source": [
    "## Задание 0\n"
   ]
  },
  {
   "cell_type": "markdown",
   "metadata": {
    "id": "yaSxXHvxO0qo"
   },
   "source": [
    "Для всех  заданий будем использовать обезличенные транзакционные банковские данные. Для этого считайте в переменные **tr_mcc_codes, tr_types, transactions и gender_train** из одноимённых таблиц из папки [data](https://drive.google.com/drive/folders/1YAMe7MiTxA-RSSd8Ex2p-L0Dspe6Gs4L).\n",
    "\n",
    "Для таблицы transactions используйте только первые n=1000000 строк. При чтении файлов обратите внимание на разделители внутри каждого из файлов - они могут различаться!"
   ]
  },
  {
   "cell_type": "code",
   "execution_count": 3,
   "outputs": [],
   "source": [
    "import os\n",
    "\n",
    "directory = os.getcwd()\n",
    "\n",
    "tr_mcc_codes = pd.read_csv(filepath_or_buffer=f\"{directory}\\\\data\\\\tr_mcc_codes.csv\", sep=\";\")\n",
    "tr_types = pd.read_csv(filepath_or_buffer=f\"{directory}\\\\data\\\\tr_types.csv\", sep=\";\")\n",
    "transactions = pd.read_csv(filepath_or_buffer=f\"{directory}\\\\data\\\\transactions.csv\", sep=\",\", nrows=1000000)\n",
    "gender_train = pd.read_csv(filepath_or_buffer=f\"{directory}\\\\data\\\\gender_train.csv\", sep=\",\")"
   ],
   "metadata": {
    "collapsed": false,
    "ExecuteTime": {
     "end_time": "2023-10-06T11:00:55.137567Z",
     "start_time": "2023-10-06T11:00:52.856516700Z"
    }
   }
  },
  {
   "cell_type": "markdown",
   "metadata": {
    "id": "oP3lX9xC8Jd8"
   },
   "source": [
    "###  Описание данных\n",
    "#### Таблица ```transactions.csv```\n",
    "##### Описание\n",
    "Таблица содержит историю транзакций клиентов банка за один год и три месяца.\n",
    "\n",
    "##### Формат данных\n",
    "\n",
    "```\n",
    "customer_id,tr_datetime,mcc_code,tr_type,amount,term_id\n",
    "111111,15 01:40:52,1111,1000,-5224,111111\n",
    "111112,15 15:18:32,3333,2000,-100,11122233\n",
    "...\n",
    "```\n",
    "##### Описание полей\n",
    "\n",
    " - ```customer_id``` — идентификатор клиента;\n",
    " - ```tr_datetime``` — день и время совершения транзакции (дни нумеруются с начала данных);\n",
    " - ```mcc_code``` — mcc-код транзакции;\n",
    " - ```tr_type``` — тип транзакции;\n",
    " - ```amount``` — сумма транзакции в условных единицах со знаком; ```+``` — начисление средств клиенту (приходная транзакция), ```-``` — списание средств (расходная транзакция);\n",
    " - ```term_id``` — идентификатор терминала;\n",
    "\n",
    "\n",
    "#### Таблица ```gender_train.csv```\n",
    "\n",
    "##### Описание\n",
    "Данная таблица содержит информацию по полу для части клиентов, для которых он известен. Для остальных клиентов пол неизвестен.\n",
    "\n",
    "##### Формат данных\n",
    "```\n",
    "customer_id,gender\n",
    "111111,0\n",
    "111112,1\n",
    "...\n",
    "```\n",
    "\n",
    "##### Описание полей\n",
    " - ```customer_id``` — идентификатор клиента;\n",
    " - ```gender``` — пол клиента;\n",
    "\n",
    "### Таблица ```tr_mcc_codes.csv```\n",
    "\n",
    "##### Описание\n",
    "Данная таблица содержит описание mcc-кодов транзакций.\n",
    "\n",
    "##### Формат данных\n",
    "```\n",
    "mcc_code;mcc_description\n",
    "1000;словесное описание mcc-кода 1000\n",
    "2000;словесное описание mcc-кода 2000\n",
    "...\n",
    "```\n",
    "\n",
    "##### Описание полей\n",
    " - ```mcc_code``` – mcc-код транзакции;\n",
    " - ```mcc_description``` — описание mcc-кода транзакции.\n",
    "\n",
    "#### Таблица ```tr_types.csv```\n",
    "\n",
    "##### Описание\n",
    "Данная таблица содержит описание типов транзакций.\n",
    "\n",
    "##### Формат данных\n",
    "```\n",
    "tr_type;tr_description\n",
    "1000;словесное описание типа транзакции 1000\n",
    "2000;словесное описание типа транзакции 2000\n",
    "...\n",
    "```\n",
    "\n",
    "##### Описание полей\n",
    " - ```tr_type``` – тип транзакции;\n",
    " - ```tr_description``` — описание типа транзакции;"
   ]
  },
  {
   "cell_type": "markdown",
   "metadata": {
    "id": "04CYsBKz8JeB"
   },
   "source": [
    "\n",
    "Задания 1-4 делаются без использования merge!\n",
    "\n",
    "## Задание 1\n",
    "\n"
   ]
  },
  {
   "cell_type": "markdown",
   "metadata": {
    "id": "1hcrfwsYN_Yz"
   },
   "source": [
    "1. Для столбца tr_type датафрейма transactions выберите произвольные 1000 строк с помощью метода sample\n",
    "2. В полученной на предыдущем этапе подвыборке найдите долю транзакций (стобец tr_description в датасете tr_types), в которой содержится подстрока 'POS' или 'ATM'\n"
   ]
  },
  {
   "cell_type": "code",
   "execution_count": 42,
   "outputs": [
    {
     "name": "stdout",
     "output_type": "stream",
     "text": [
      "0.622\n"
     ]
    },
    {
     "data": {
      "text/plain": "5      4010\n6      4011\n7      4020\n8      4021\n9      4030\n       ... \n126    2352\n132    2401\n136    2411\n140    2421\n145    2431\nName: tr_type, Length: 62, dtype: int64"
     },
     "execution_count": 42,
     "metadata": {},
     "output_type": "execute_result"
    }
   ],
   "source": [
    "sample = transactions.sample(n=1000)\n",
    "\n",
    "pos_atm_types = tr_types[(tr_types[\"tr_description\"].str.contains(\"POS\")) | (tr_types[\"tr_description\"].str.contains(\"АТМ\"))].tr_type\n",
    "pos_atm_transactions = sample[sample.tr_type.isin(pos_atm_types)]\n",
    "\n",
    "print(len(pos_atm_transactions)/len(sample))\n",
    "pos_atm_types"
   ],
   "metadata": {
    "collapsed": false,
    "ExecuteTime": {
     "end_time": "2023-10-06T11:36:24.089679800Z",
     "start_time": "2023-10-06T11:36:24.005258Z"
    }
   }
  },
  {
   "cell_type": "markdown",
   "metadata": {
    "id": "fiZBDIZt8JeS"
   },
   "source": [
    "## Задание 2\n"
   ]
  },
  {
   "cell_type": "markdown",
   "metadata": {
    "id": "FFKeBUThOCrz"
   },
   "source": [
    "1. Для столбца tr_type датафрейма transactions посчитайте частоту встречаемости всех типов транзакций tr_type в transactions.\n",
    "2. Выведите топ-10 транзакций по частоте встречаемости (вывести для них tr_description тоже)."
   ]
  },
  {
   "cell_type": "code",
   "execution_count": 18,
   "outputs": [
    {
     "name": "stdout",
     "output_type": "stream",
     "text": [
      "tr_type\n",
      "1010    0.231117\n",
      "2010    0.151166\n",
      "7070    0.149006\n",
      "1110    0.137658\n",
      "1030    0.118975\n",
      "2370    0.049830\n",
      "7010    0.028972\n",
      "7030    0.026078\n",
      "7071    0.015781\n",
      "1100    0.015476\n",
      "dtype: float64\n"
     ]
    },
    {
     "data": {
      "text/plain": "   tr_type                                     tr_description\n0     1010                              Покупка. POS ТУ СБ РФ\n1     2010              Выдача наличных в АТМ Сбербанк России\n2     7070  Перевод на карту (с карты) через Мобильный бан...\n3     1110                             Покупка. POS ТУ Россия\n4     1030                     Оплата услуги. Банкоматы СБ РФ\n5     2370  Списание с карты на карту по операции <перевод...\n6     7010       Взнос наличных через АТМ (в своем тер.банке)\n7     7030  Перевод на карту (с карты) через АТМ (в предел...\n8     7071  Перевод на карту (с карты) через Мобильный бан...\n9     1100                                Покупка. ТУ  Россия",
      "text/html": "<div>\n<style scoped>\n    .dataframe tbody tr th:only-of-type {\n        vertical-align: middle;\n    }\n\n    .dataframe tbody tr th {\n        vertical-align: top;\n    }\n\n    .dataframe thead th {\n        text-align: right;\n    }\n</style>\n<table border=\"1\" class=\"dataframe\">\n  <thead>\n    <tr style=\"text-align: right;\">\n      <th></th>\n      <th>tr_type</th>\n      <th>tr_description</th>\n    </tr>\n  </thead>\n  <tbody>\n    <tr>\n      <th>0</th>\n      <td>1010</td>\n      <td>Покупка. POS ТУ СБ РФ</td>\n    </tr>\n    <tr>\n      <th>1</th>\n      <td>2010</td>\n      <td>Выдача наличных в АТМ Сбербанк России</td>\n    </tr>\n    <tr>\n      <th>2</th>\n      <td>7070</td>\n      <td>Перевод на карту (с карты) через Мобильный бан...</td>\n    </tr>\n    <tr>\n      <th>3</th>\n      <td>1110</td>\n      <td>Покупка. POS ТУ Россия</td>\n    </tr>\n    <tr>\n      <th>4</th>\n      <td>1030</td>\n      <td>Оплата услуги. Банкоматы СБ РФ</td>\n    </tr>\n    <tr>\n      <th>5</th>\n      <td>2370</td>\n      <td>Списание с карты на карту по операции &lt;перевод...</td>\n    </tr>\n    <tr>\n      <th>6</th>\n      <td>7010</td>\n      <td>Взнос наличных через АТМ (в своем тер.банке)</td>\n    </tr>\n    <tr>\n      <th>7</th>\n      <td>7030</td>\n      <td>Перевод на карту (с карты) через АТМ (в предел...</td>\n    </tr>\n    <tr>\n      <th>8</th>\n      <td>7071</td>\n      <td>Перевод на карту (с карты) через Мобильный бан...</td>\n    </tr>\n    <tr>\n      <th>9</th>\n      <td>1100</td>\n      <td>Покупка. ТУ  Россия</td>\n    </tr>\n  </tbody>\n</table>\n</div>"
     },
     "execution_count": 18,
     "metadata": {},
     "output_type": "execute_result"
    }
   ],
   "source": [
    "count = transactions.groupby([\"tr_type\"])\n",
    "frequency = (count.size() / len(transactions)).sort_values(ascending=False).head(10)\n",
    "print(frequency)\n",
    "\n",
    "types = tr_types.set_index(\"tr_type\").reindex(frequency.index).reset_index()\n",
    "types"
   ],
   "metadata": {
    "collapsed": false,
    "ExecuteTime": {
     "end_time": "2023-10-06T11:16:14.481445300Z",
     "start_time": "2023-10-06T11:16:14.383002400Z"
    }
   }
  },
  {
   "cell_type": "markdown",
   "metadata": {
    "id": "mktm_JeA8JeX"
   },
   "source": [
    "## Задание 3\n",
    "1. В датафрейме transactions найдите клиента с максимальной суммой приходов на карту\n",
    "2. В датафрейме transactions найдите клиента с максимальной суммой расходов по карте\n",
    "3. Найдите модуль разницы для этих клиентов между суммой расходов и суммой приходов"
   ]
  },
  {
   "cell_type": "code",
   "execution_count": 43,
   "outputs": [
    {
     "name": "stdout",
     "output_type": "stream",
     "text": [
      "most deposited: 1248114886.81 by 70780820\n",
      "most spent: 1249952204.79 by 70780820\n",
      "модуль разницы: 1837317.980000019\n"
     ]
    }
   ],
   "source": [
    "incomes = transactions[transactions.amount > 0].groupby([\"customer_id\"]).amount.sum().sort_values(ascending=False)\n",
    "\n",
    "expenses = transactions[transactions.amount < 0].groupby([\"customer_id\"]).amount.sum().sort_values()\n",
    "print(f\"most deposited: {incomes.values[0]} by {incomes.index[0]}\\nmost spent: {abs(expenses.values[0])} by {expenses.index[0]}\")\n",
    "\n",
    "print(f\"модуль разницы: {abs(incomes.values[0] + expenses.values[0])}\")"
   ],
   "metadata": {
    "collapsed": false,
    "ExecuteTime": {
     "end_time": "2023-10-06T11:38:39.081631900Z",
     "start_time": "2023-10-06T11:38:38.847148900Z"
    }
   }
  },
  {
   "cell_type": "markdown",
   "metadata": {
    "id": "BYrJ5b_E8Jee"
   },
   "source": [
    "## Задание 4\n",
    "1. Найдите среднее арифметическое и медиану по amount по всем типам транзакций из топ 10 из задания 2\n",
    "1. Найдите среднее арифметическое и медиану по amount по всем типам транзакций для клиентов из задания 3"
   ]
  },
  {
   "cell_type": "code",
   "execution_count": 56,
   "outputs": [
    {
     "name": "stdout",
     "output_type": "stream",
     "text": [
      "tr_type\n",
      "1010    0.231117\n",
      "2010    0.151166\n",
      "7070    0.149006\n",
      "1110    0.137658\n",
      "1030    0.118975\n",
      "2370    0.049830\n",
      "7010    0.028972\n",
      "7030    0.026078\n",
      "7071    0.015781\n",
      "1100    0.015476\n",
      "dtype: float64\n",
      "Среднее значение\n"
     ]
    },
    {
     "data": {
      "text/plain": "tr_type\n1010    -19784.748640\n1030     -5320.980222\n1100    -44061.827262\n1110    -32119.330371\n2010   -136077.629325\n2370   -205418.249032\n7010    276391.789596\n7030     86104.332909\n7070     65569.831700\n7071     66806.826623\nName: amount, dtype: float64"
     },
     "execution_count": 56,
     "metadata": {},
     "output_type": "execute_result"
    }
   ],
   "source": [
    "print(frequency)\n",
    "part1 = transactions[transactions[\"tr_type\"].isin(frequency.index)].groupby(\"tr_type\")\n",
    "print(\"Среднее значение\")\n",
    "part1['amount'].mean()\n"
   ],
   "metadata": {
    "collapsed": false,
    "ExecuteTime": {
     "end_time": "2023-10-06T11:54:15.346256100Z",
     "start_time": "2023-10-06T11:54:15.153793700Z"
    }
   }
  },
  {
   "cell_type": "code",
   "execution_count": 55,
   "outputs": [
    {
     "name": "stdout",
     "output_type": "stream",
     "text": [
      "Медиана\n"
     ]
    },
    {
     "data": {
      "text/plain": "tr_type\n1010     -7411.52\n1030     -2245.92\n1100    -10188.26\n1110    -11207.57\n2010    -44918.32\n2370    -44918.32\n7010    112295.79\n7030     13951.52\n7070     11319.42\n7071      3593.47\nName: amount, dtype: float64"
     },
     "execution_count": 55,
     "metadata": {},
     "output_type": "execute_result"
    }
   ],
   "source": [
    "print(\"Медиана\")\n",
    "part1['amount'].median()"
   ],
   "metadata": {
    "collapsed": false,
    "ExecuteTime": {
     "end_time": "2023-10-06T11:54:11.888481800Z",
     "start_time": "2023-10-06T11:54:11.812597800Z"
    }
   }
  },
  {
   "cell_type": "code",
   "execution_count": 58,
   "outputs": [
    {
     "name": "stdout",
     "output_type": "stream",
     "text": [
      "Среднее значение\n"
     ]
    },
    {
     "data": {
      "text/plain": "tr_type\n2010   -2.941056e+06\n2330   -2.382398e+06\n2370   -2.218505e+06\n6110    1.756293e+04\n7020    1.465129e+04\n7021    2.850067e+04\n7030    1.406196e+04\n7031    1.921036e+04\n7034    1.430648e+04\n7040    2.153833e+04\n7070    1.384821e+04\n7071    1.860057e+04\n7074    2.281159e+04\nName: amount, dtype: float64"
     },
     "execution_count": 58,
     "metadata": {},
     "output_type": "execute_result"
    }
   ],
   "source": [
    "part2 = transactions[transactions[\"customer_id\"].isin([incomes.index[0], expenses.index[0]])].groupby(\"tr_type\")\n",
    "print(\"Среднее значение\")\n",
    "part2[\"amount\"].mean()"
   ],
   "metadata": {
    "collapsed": false,
    "ExecuteTime": {
     "end_time": "2023-10-06T11:58:39.528385800Z",
     "start_time": "2023-10-06T11:58:39.423497400Z"
    }
   }
  },
  {
   "cell_type": "code",
   "execution_count": 59,
   "outputs": [
    {
     "name": "stdout",
     "output_type": "stream",
     "text": [
      "Медиана\n"
     ]
    },
    {
     "data": {
      "text/plain": "tr_type\n2010   -3368873.660\n2330   -2245915.770\n2370   -2245915.770\n6110      10028.010\n7020      10319.985\n7021      28500.670\n7030       8848.910\n7031      12992.620\n7034      14306.480\n7040      14396.320\n7070       8714.150\n7071      12543.440\n7074       9387.930\nName: amount, dtype: float64"
     },
     "execution_count": 59,
     "metadata": {},
     "output_type": "execute_result"
    }
   ],
   "source": [
    "print(\"Медиана\")\n",
    "part2[\"amount\"].median()"
   ],
   "metadata": {
    "collapsed": false,
    "ExecuteTime": {
     "end_time": "2023-10-06T11:58:41.971949Z",
     "start_time": "2023-10-06T11:58:41.914390600Z"
    }
   }
  },
  {
   "cell_type": "markdown",
   "metadata": {
    "id": "BYXwM4l3QDBu"
   },
   "source": [
    "## Подготовка для заданий 5-8"
   ]
  },
  {
   "cell_type": "markdown",
   "metadata": {
    "id": "XWQzFeKcQHRe"
   },
   "source": [
    "*Из заданий 5-8 нужно выполнить минимум два любых*\n",
    "\n",
    "Соедините transactions с всеми остальными таблицами (tr_mcc_codes, tr_types, gender_train). Причём с gender_train необходимо смёрджиться с помощью left join, а с оставшимися датафреймами - через inner.\n",
    "После получения результата таблицы gender_train, tr_types, tr_mcc_codes можно удалить. В результате соединения датафреймов должно получиться 999584 строки."
   ]
  },
  {
   "cell_type": "code",
   "metadata": {
    "id": "sndJxjJ7QQf5",
    "ExecuteTime": {
     "end_time": "2023-10-06T12:03:28.460362Z",
     "start_time": "2023-10-06T12:03:27.120852Z"
    }
   },
   "source": [
    "transactions = pd.merge(transactions, gender_train, how='left')\n",
    "transactions = pd.merge(transactions, tr_mcc_codes, how='inner')\n",
    "transactions = pd.merge(transactions, tr_types, how='inner')\n",
    "transactions.head(1)"
   ],
   "execution_count": 62,
   "outputs": [
    {
     "data": {
      "text/plain": "   customer_id tr_datetime  mcc_code  tr_type   amount term_id  gender  \\\n0     39026145  0 10:23:26      4814     1030 -2245.92     NaN     1.0   \n\n                                     mcc_description  \\\n0  Звонки с использованием телефонов, считывающих...   \n\n                   tr_description  \n0  Оплата услуги. Банкоматы СБ РФ  ",
      "text/html": "<div>\n<style scoped>\n    .dataframe tbody tr th:only-of-type {\n        vertical-align: middle;\n    }\n\n    .dataframe tbody tr th {\n        vertical-align: top;\n    }\n\n    .dataframe thead th {\n        text-align: right;\n    }\n</style>\n<table border=\"1\" class=\"dataframe\">\n  <thead>\n    <tr style=\"text-align: right;\">\n      <th></th>\n      <th>customer_id</th>\n      <th>tr_datetime</th>\n      <th>mcc_code</th>\n      <th>tr_type</th>\n      <th>amount</th>\n      <th>term_id</th>\n      <th>gender</th>\n      <th>mcc_description</th>\n      <th>tr_description</th>\n    </tr>\n  </thead>\n  <tbody>\n    <tr>\n      <th>0</th>\n      <td>39026145</td>\n      <td>0 10:23:26</td>\n      <td>4814</td>\n      <td>1030</td>\n      <td>-2245.92</td>\n      <td>NaN</td>\n      <td>1.0</td>\n      <td>Звонки с использованием телефонов, считывающих...</td>\n      <td>Оплата услуги. Банкоматы СБ РФ</td>\n    </tr>\n  </tbody>\n</table>\n</div>"
     },
     "execution_count": 62,
     "metadata": {},
     "output_type": "execute_result"
    }
   ]
  },
  {
   "cell_type": "markdown",
   "metadata": {
    "id": "8vrFauJ8QgmT"
   },
   "source": [
    "## Задание 5"
   ]
  },
  {
   "cell_type": "markdown",
   "metadata": {
    "id": "rOjEQ5xyQfE_"
   },
   "source": [
    "1. Определите модуль разницы между средними тратами женщин и мужчин (трата - отрицательное значение amount).\n",
    "2. Определите модуль разницы между средними поступлениями у мужчин и женщин\n",
    "\n",
    "Обратите внимание, что для вычисления модуля разности точных знаний о том,\n",
    "какой класc относится к мужчинам, а какой - к женщинам, не требуется."
   ]
  },
  {
   "cell_type": "code",
   "execution_count": 263,
   "outputs": [
    {
     "name": "stdout",
     "output_type": "stream",
     "text": [
      "Разница между средними тратами: 32718.054920224655\n",
      "Разница между средними поступлениями: 63366.57104801461\n"
     ]
    }
   ],
   "source": [
    "expense_0 = transactions[(transactions['gender'] == 0) & (transactions['amount'] < 0)].amount\n",
    "expense_1 = transactions[(transactions['gender'] == 1) & (transactions['amount'] < 0)].amount\n",
    "print(f\"Разница между средними тратами: {abs(expense_0.mean() - expense_1.mean())}\")\n",
    "\n",
    "income_0 = transactions[(transactions['gender'] == 0) & (transactions['amount'] > 0)].amount\n",
    "income_1 = transactions[(transactions['gender'] == 1) & (transactions['amount'] > 0)].amount\n",
    "print(f\"Разница между средними поступлениями: {abs(income_0.mean() - income_1.mean())}\")"
   ],
   "metadata": {
    "collapsed": false,
    "ExecuteTime": {
     "end_time": "2023-10-05T19:56:55.161527300Z",
     "start_time": "2023-10-05T19:56:55.067759800Z"
    }
   }
  },
  {
   "cell_type": "markdown",
   "metadata": {
    "id": "DSHFLbepQ7G1"
   },
   "source": [
    "## Задание 6"
   ]
  },
  {
   "cell_type": "markdown",
   "metadata": {
    "id": "2EF1490bQ-17"
   },
   "source": [
    "1. По всем типам транзакций рассчитайте максимальную сумму прихода на карту (из строго положительных сумм по столбцу amount) отдельно для мужчин и женщин (назовите ее \"max_income\"). Оставьте по 10 типов транзакций для мужчин и для женщин, наименьших среди всех типов транзакций по полученным значениям \"max_income\".\n",
    "2. Выделите среди них те типы транзакций, которые встречаются одновременно и у мужчин, и у женщин"
   ]
  },
  {
   "cell_type": "markdown",
   "metadata": {
    "id": "W-LaVwRdR3UB"
   },
   "source": [
    "## Задание 7"
   ]
  },
  {
   "cell_type": "markdown",
   "metadata": {
    "id": "rhI4NOciR7e0"
   },
   "source": [
    "1. Найдите суммы затрат по каждой категории (mcc) для мужчин и для женщин.\n",
    "2. Найдите топ 10 категорий с самыми большими относительными модулями разности в тратах для разных полов (в ответе должны присутствовать описания mcc кодов)."
   ]
  },
  {
   "cell_type": "markdown",
   "metadata": {
    "id": "aGaPkQkVSvl8"
   },
   "source": [
    "## Задание 8"
   ]
  },
  {
   "cell_type": "markdown",
   "metadata": {
    "id": "T7Ox1qAXTHQl"
   },
   "source": [
    "1. Из поля tr_datetime выделите час tr_hour, в который произошла транзакция, как первые 2 цифры до \":\". (\\**)\n",
    "2. Посчитайте количество транзакций с amount<0 в ночное время для мужчин и женщин. Ночное время - это примерно 00-06 часов."
   ]
  },
  {
   "cell_type": "code",
   "execution_count": 86,
   "outputs": [
    {
     "name": "stdout",
     "output_type": "stream",
     "text": [
      "Для пола 1: 43510\n",
      "Для пола 2: 46694\n"
     ]
    }
   ],
   "source": [
    "tr_hour = pd.DataFrame({\n",
    "    \"tr_hour\": transactions[\"tr_datetime\"],\n",
    "    \"amount\": transactions[\"amount\"],\n",
    "    \"gender\": transactions[\"gender\"],\n",
    "    \"mcc_code\": transactions[\"mcc_code\"],\n",
    "    \"mcc_description\": transactions[\"mcc_description\"]\n",
    "})\n",
    "\n",
    "tr_hour[\"tr_hour\"] = tr_hour[\"tr_hour\"].str.slice(start=-8, stop=-6).astype(int)\n",
    "\n",
    "night_0 = tr_hour.query(\"amount < 0 & gender == 0 & tr_hour >= 0 & tr_hour <= 6\")\n",
    "night_1 = tr_hour.query(\"amount < 0 & gender == 1 & tr_hour >= 0 & tr_hour <= 6\")\n",
    "print(f\"Для пола 1: {len(night_0)}\")\n",
    "print(f\"Для пола 2: {len(night_1)}\")"
   ],
   "metadata": {
    "collapsed": false,
    "ExecuteTime": {
     "end_time": "2023-10-06T12:39:42.453414Z",
     "start_time": "2023-10-06T12:39:41.159507600Z"
    }
   }
  },
  {
   "cell_type": "markdown",
   "source": [
    "## Доп. задание"
   ],
   "metadata": {
    "collapsed": false
   }
  },
  {
   "cell_type": "markdown",
   "source": [
    "найдите 5 категорий транзакций, по которым совершается больше всего трат в ночное время (>00:00 и < 6:00). Выведите названия категорий и максимальную сумму трат в каждой."
   ],
   "metadata": {
    "collapsed": false
   }
  },
  {
   "cell_type": "code",
   "execution_count": 87,
   "outputs": [
    {
     "data": {
      "text/plain": "               amount                                    mcc_description\nmcc_code                                                                \n4829     -23748385.24                                  Денежные переводы\n5411      -1190476.85                  Бакалейные магазины, супермаркеты\n5541       -474202.66                            Станции техобслуживания\n6011      -4491831.54  Финансовые институты — снятие наличности автом...\n7011     -10376130.87   Отели, мотели, базы отдыха, сервисы бронирования",
      "text/html": "<div>\n<style scoped>\n    .dataframe tbody tr th:only-of-type {\n        vertical-align: middle;\n    }\n\n    .dataframe tbody tr th {\n        vertical-align: top;\n    }\n\n    .dataframe thead th {\n        text-align: right;\n    }\n</style>\n<table border=\"1\" class=\"dataframe\">\n  <thead>\n    <tr style=\"text-align: right;\">\n      <th></th>\n      <th>amount</th>\n      <th>mcc_description</th>\n    </tr>\n    <tr>\n      <th>mcc_code</th>\n      <th></th>\n      <th></th>\n    </tr>\n  </thead>\n  <tbody>\n    <tr>\n      <th>4829</th>\n      <td>-23748385.24</td>\n      <td>Денежные переводы</td>\n    </tr>\n    <tr>\n      <th>5411</th>\n      <td>-1190476.85</td>\n      <td>Бакалейные магазины, супермаркеты</td>\n    </tr>\n    <tr>\n      <th>5541</th>\n      <td>-474202.66</td>\n      <td>Станции техобслуживания</td>\n    </tr>\n    <tr>\n      <th>6011</th>\n      <td>-4491831.54</td>\n      <td>Финансовые институты — снятие наличности автом...</td>\n    </tr>\n    <tr>\n      <th>7011</th>\n      <td>-10376130.87</td>\n      <td>Отели, мотели, базы отдыха, сервисы бронирования</td>\n    </tr>\n  </tbody>\n</table>\n</div>"
     },
     "execution_count": 87,
     "metadata": {},
     "output_type": "execute_result"
    }
   ],
   "source": [
    "df = tr_hour.query(\"tr_hour >= 0 & tr_hour <= 6 & amount < 0\")\n",
    "categories = df.groupby(\"mcc_code\")[\"amount\"].sum().sort_values().head(5)\n",
    "to_print = df[df[\"mcc_code\"].isin(categories.index)].groupby(\"mcc_code\")[[\"amount\", \"mcc_description\"]]\n",
    "to_print.min()"
   ],
   "metadata": {
    "collapsed": false,
    "ExecuteTime": {
     "end_time": "2023-10-06T12:40:04.059616400Z",
     "start_time": "2023-10-06T12:40:03.976021200Z"
    }
   }
  },
  {
   "cell_type": "code",
   "execution_count": 79,
   "outputs": [
    {
     "data": {
      "text/plain": "tr_type\n1110   -3.040334e+09\n2010   -1.757425e+09\n2370   -8.043574e+08\n1100   -5.528784e+08\n1210   -4.114363e+08\nName: amount, dtype: float64"
     },
     "execution_count": 79,
     "metadata": {},
     "output_type": "execute_result"
    }
   ],
   "source": [
    "categories"
   ],
   "metadata": {
    "collapsed": false,
    "ExecuteTime": {
     "end_time": "2023-10-06T12:12:50.639140800Z",
     "start_time": "2023-10-06T12:12:50.559848800Z"
    }
   }
  }
 ]
}
