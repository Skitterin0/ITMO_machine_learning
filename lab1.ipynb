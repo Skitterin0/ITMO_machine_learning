{
 "nbformat": 4,
 "nbformat_minor": 0,
 "metadata": {
  "colab": {
   "provenance": [],
   "collapsed_sections": [
    "MFKSC2UUA7Ne",
    "Mth2u7nzAiqw",
    "JrEY8hzdfmM2",
    "mrm41pzufmNy",
    "2kJObRBHfmOd",
    "ylh_09YIfmOg",
    "QeBH-jT4fmOy"
   ],
   "toc_visible": true
  },
  "kernelspec": {
   "display_name": "Python 3",
   "language": "python",
   "name": "python3"
  },
  "language_info": {
   "codemirror_mode": {
    "name": "ipython",
    "version": 3
   },
   "file_extension": ".py",
   "mimetype": "text/x-python",
   "name": "python",
   "nbconvert_exporter": "python",
   "pygments_lexer": "ipython3",
   "version": "3.7.4"
  }
 },
 "cells": [
  {
   "cell_type": "markdown",
   "source": [
    "Перед началом выполнения, сделайте копию этого colab'а. Чтобы сделать копию, нужно в пункте меню Файл выбрать \"Сохранить копию на диске\""
   ],
   "metadata": {
    "id": "131T1pm5PaF4"
   }
  },
  {
   "cell_type": "markdown",
   "metadata": {
    "id": "BsNwjQDRfmLY"
   },
   "source": [
    "# Задание 1"
   ]
  },
  {
   "cell_type": "markdown",
   "metadata": {
    "id": "wu6r1-s7fmLe"
   },
   "source": [
    "---"
   ]
  },
  {
   "cell_type": "markdown",
   "metadata": {
    "id": "zxRIdPO9gYyX"
   },
   "source": [
    "Напишите функцию linan(), которая будет решать систему линейных уравнений вида:\n",
    "\n",
    "\\begin{matrix} a_{11}x+a_{12}y=b_{1}&(1) \\\\ a_{21}x+a_{22}y=b_{2} &(2) \\end{matrix}\n",
    "​\n",
    "На вход программа должна принимать 2 строки.\n",
    "\n",
    "Каждая строка содержит 3 действительных числа через пробел: коэффициенты a и b.\n",
    "\n",
    "На выходе программа должна выдавать значения x и y в одну строку через пробел.\n",
    "\n",
    "\n",
    "Примечание 1. Для разделения строки на отдельные элементы используйте функцию split()\n",
    "\n",
    "Примечание 2. В качестве разделителя между целой и дробной частью используйте точку, например 0.2"
   ]
  },
  {
   "cell_type": "code",
   "metadata": {
    "id": "6sxlcLbVlrjl",
    "ExecuteTime": {
     "end_time": "2023-09-22T11:41:24.639968300Z",
     "start_time": "2023-09-22T11:41:24.369251500Z"
    }
   },
   "source": [
    "import numpy as np\n",
    "\n",
    "def linan(str1: str, str2: str) -> str:\n",
    "  a11, a12, b1 = map(float, str1.strip().split())\n",
    "  a21, a22, b2 = map(float, str2.strip().split())\n",
    "  \n",
    "  a = np.array([\n",
    "    [a11, a12],\n",
    "    [a21, a22]\n",
    "  ])\n",
    "  if a == np.array([[1, 0], [0, 1]]):\n",
    "      raise \"singular matrix\"\n",
    "  b = np.array([b1, b2])\n",
    "  a_reversed = np.linalg.inv(a)\n",
    "  answer = a_reversed @ b\n",
    "  \n",
    "  return np.array2string(answer, precision=5).strip(\"[]\")\n",
    "\n",
    "linan(\"1 2 3\", \"1 2 3\")"
   ],
   "execution_count": 24,
   "outputs": [
    {
     "ename": "LinAlgError",
     "evalue": "Singular matrix",
     "output_type": "error",
     "traceback": [
      "\u001B[1;31m---------------------------------------------------------------------------\u001B[0m",
      "\u001B[1;31mLinAlgError\u001B[0m                               Traceback (most recent call last)",
      "Cell \u001B[1;32mIn[24], line 17\u001B[0m\n\u001B[0;32m     13\u001B[0m   answer \u001B[38;5;241m=\u001B[39m a_reversed \u001B[38;5;241m@\u001B[39m b\n\u001B[0;32m     15\u001B[0m   \u001B[38;5;28;01mreturn\u001B[39;00m np\u001B[38;5;241m.\u001B[39marray2string(answer, precision\u001B[38;5;241m=\u001B[39m\u001B[38;5;241m5\u001B[39m)\u001B[38;5;241m.\u001B[39mstrip(\u001B[38;5;124m\"\u001B[39m\u001B[38;5;124m[]\u001B[39m\u001B[38;5;124m\"\u001B[39m)\n\u001B[1;32m---> 17\u001B[0m \u001B[43mlinan\u001B[49m\u001B[43m(\u001B[49m\u001B[38;5;124;43m\"\u001B[39;49m\u001B[38;5;124;43m1 2 3\u001B[39;49m\u001B[38;5;124;43m\"\u001B[39;49m\u001B[43m,\u001B[49m\u001B[43m \u001B[49m\u001B[38;5;124;43m\"\u001B[39;49m\u001B[38;5;124;43m1 2 3\u001B[39;49m\u001B[38;5;124;43m\"\u001B[39;49m\u001B[43m)\u001B[49m\n",
      "Cell \u001B[1;32mIn[24], line 12\u001B[0m, in \u001B[0;36mlinan\u001B[1;34m(str1, str2)\u001B[0m\n\u001B[0;32m      7\u001B[0m a \u001B[38;5;241m=\u001B[39m np\u001B[38;5;241m.\u001B[39marray([\n\u001B[0;32m      8\u001B[0m   [a11, a12],\n\u001B[0;32m      9\u001B[0m   [a21, a22]\n\u001B[0;32m     10\u001B[0m ])\n\u001B[0;32m     11\u001B[0m b \u001B[38;5;241m=\u001B[39m np\u001B[38;5;241m.\u001B[39marray([b1, b2])\n\u001B[1;32m---> 12\u001B[0m a_reversed \u001B[38;5;241m=\u001B[39m \u001B[43mnp\u001B[49m\u001B[38;5;241;43m.\u001B[39;49m\u001B[43mlinalg\u001B[49m\u001B[38;5;241;43m.\u001B[39;49m\u001B[43minv\u001B[49m\u001B[43m(\u001B[49m\u001B[43ma\u001B[49m\u001B[43m)\u001B[49m\n\u001B[0;32m     13\u001B[0m answer \u001B[38;5;241m=\u001B[39m a_reversed \u001B[38;5;241m@\u001B[39m b\n\u001B[0;32m     15\u001B[0m \u001B[38;5;28;01mreturn\u001B[39;00m np\u001B[38;5;241m.\u001B[39marray2string(answer, precision\u001B[38;5;241m=\u001B[39m\u001B[38;5;241m5\u001B[39m)\u001B[38;5;241m.\u001B[39mstrip(\u001B[38;5;124m\"\u001B[39m\u001B[38;5;124m[]\u001B[39m\u001B[38;5;124m\"\u001B[39m)\n",
      "File \u001B[1;32mC:\\Python310\\lib\\site-packages\\numpy\\linalg\\linalg.py:561\u001B[0m, in \u001B[0;36minv\u001B[1;34m(a)\u001B[0m\n\u001B[0;32m    559\u001B[0m signature \u001B[38;5;241m=\u001B[39m \u001B[38;5;124m'\u001B[39m\u001B[38;5;124mD->D\u001B[39m\u001B[38;5;124m'\u001B[39m \u001B[38;5;28;01mif\u001B[39;00m isComplexType(t) \u001B[38;5;28;01melse\u001B[39;00m \u001B[38;5;124m'\u001B[39m\u001B[38;5;124md->d\u001B[39m\u001B[38;5;124m'\u001B[39m\n\u001B[0;32m    560\u001B[0m extobj \u001B[38;5;241m=\u001B[39m get_linalg_error_extobj(_raise_linalgerror_singular)\n\u001B[1;32m--> 561\u001B[0m ainv \u001B[38;5;241m=\u001B[39m \u001B[43m_umath_linalg\u001B[49m\u001B[38;5;241;43m.\u001B[39;49m\u001B[43minv\u001B[49m\u001B[43m(\u001B[49m\u001B[43ma\u001B[49m\u001B[43m,\u001B[49m\u001B[43m \u001B[49m\u001B[43msignature\u001B[49m\u001B[38;5;241;43m=\u001B[39;49m\u001B[43msignature\u001B[49m\u001B[43m,\u001B[49m\u001B[43m \u001B[49m\u001B[43mextobj\u001B[49m\u001B[38;5;241;43m=\u001B[39;49m\u001B[43mextobj\u001B[49m\u001B[43m)\u001B[49m\n\u001B[0;32m    562\u001B[0m \u001B[38;5;28;01mreturn\u001B[39;00m wrap(ainv\u001B[38;5;241m.\u001B[39mastype(result_t, copy\u001B[38;5;241m=\u001B[39m\u001B[38;5;28;01mFalse\u001B[39;00m))\n",
      "File \u001B[1;32mC:\\Python310\\lib\\site-packages\\numpy\\linalg\\linalg.py:112\u001B[0m, in \u001B[0;36m_raise_linalgerror_singular\u001B[1;34m(err, flag)\u001B[0m\n\u001B[0;32m    111\u001B[0m \u001B[38;5;28;01mdef\u001B[39;00m \u001B[38;5;21m_raise_linalgerror_singular\u001B[39m(err, flag):\n\u001B[1;32m--> 112\u001B[0m     \u001B[38;5;28;01mraise\u001B[39;00m LinAlgError(\u001B[38;5;124m\"\u001B[39m\u001B[38;5;124mSingular matrix\u001B[39m\u001B[38;5;124m\"\u001B[39m)\n",
      "\u001B[1;31mLinAlgError\u001B[0m: Singular matrix"
     ]
    }
   ]
  },
  {
   "cell_type": "markdown",
   "metadata": {
    "id": "wLoVDMQnfmOv"
   },
   "source": [
    "# Задание 2"
   ]
  },
  {
   "cell_type": "markdown",
   "metadata": {
    "id": "6bmt_YF3fmOw"
   },
   "source": [
    "Напишите функцию `decorate_matrix`, которая получает на вход одно целое число больше единицы. Функция должна возвращать матрицу n на n, у которой на границах стоят единицы, а на всех остальных позициях(если остались позиции не на границах) стоят нули.\n",
    "\n",
    "Нужно сделать без использования  циклов.\n",
    "\n",
    "```\n",
    "# ожидаемый результат для аргумента 5\n",
    "array([[1., 1., 1., 1., 1.],\n",
    "[1., 0., 0., 0., 1.],\n",
    "[1., 0., 0., 0., 1.],\n",
    "[1., 0., 0., 0., 1.],\n",
    "[1., 1., 1., 1., 1.]])\n",
    "```\n",
    "\n"
   ]
  },
  {
   "cell_type": "code",
   "execution_count": 16,
   "outputs": [
    {
     "data": {
      "text/plain": "array([[1, 1, 1, 1, 1, 1],\n       [1, 0, 0, 0, 0, 1],\n       [1, 0, 0, 0, 0, 1],\n       [1, 0, 0, 0, 0, 1],\n       [1, 0, 0, 0, 0, 1],\n       [1, 1, 1, 1, 1, 1]])"
     },
     "execution_count": 16,
     "metadata": {},
     "output_type": "execute_result"
    }
   ],
   "source": [
    "def decorate_matrix(n: int) -> np.ndarray:\n",
    "  matrix = np.zeros([n, n], dtype=int)\n",
    "  matrix[0] = np.ones(n)\n",
    "  matrix[n-1] = np.ones(n)\n",
    "  \n",
    "  matrix = matrix.transpose()\n",
    "  matrix[0] = np.ones(n)\n",
    "  matrix[n-1] = np.ones(n)\n",
    "  return matrix\n",
    "\n",
    "decorate_matrix(6)"
   ],
   "metadata": {
    "collapsed": false,
    "ExecuteTime": {
     "end_time": "2023-09-22T11:36:25.751582400Z",
     "start_time": "2023-09-22T11:36:25.720262600Z"
    }
   }
  },
  {
   "cell_type": "markdown",
   "source": [
    "Обратите внимание, что ожидается массив numpy"
   ],
   "metadata": {
    "id": "FjeIqKk-bhc0"
   }
  },
  {
   "cell_type": "markdown",
   "metadata": {
    "id": "75sxny1zSCbl"
   },
   "source": [
    "# Задание 3"
   ]
  },
  {
   "cell_type": "markdown",
   "source": [
    "1) реализуйте 2 функции:\n",
    "\n",
    "$$f(x) = (x+a)^2 - b$$\n",
    "\n",
    "$$g(x) = |f(x)|$$\n",
    "\n",
    "2) Найдите аргументы, при которых достигается минимум функций $f(x)$ и $g(x)$\n",
    "\n",
    "Пример.\n",
    "Входные значение: $a=3$ и $b=4$\n",
    "\n",
    "Выходные значения:\n",
    "\n",
    "`-3.0 -1.0`"
   ],
   "metadata": {
    "collapsed": false
   }
  },
  {
   "cell_type": "code",
   "execution_count": 16,
   "outputs": [
    {
     "name": "stdout",
     "output_type": "stream",
     "text": [
      "-3.0 -1.0\n"
     ]
    },
    {
     "data": {
      "text/plain": "array([-5.00000001])"
     },
     "execution_count": 16,
     "metadata": {},
     "output_type": "execute_result"
    }
   ],
   "source": [
    "a = 3\n",
    "b = 4\n",
    "\n",
    "def f(x) -> float:\n",
    "    return (x + a) ** 2 - b\n",
    "\n",
    "def g(x) -> float:\n",
    "    return abs(f(x))\n",
    "\n",
    "def golden_section_method(f: callable, a: float, b: float, epsilon=1e-6) -> float:\n",
    "    phi = (3 - 5**0.5)/2\n",
    "    x1 = a + (b - a) * phi\n",
    "    x2 = b - (b - a) * phi\n",
    "    f1, f2 = f(x1), f(x2)\n",
    "    while abs(b - a) > epsilon:\n",
    "        if f1 < f2:\n",
    "            b = x2\n",
    "            x2 = x1\n",
    "            x1 = a + (b - a) * phi\n",
    "            f1, f2 = f(x1), f1\n",
    "        else:\n",
    "            a = x1\n",
    "            x1 = x2\n",
    "            x2 = b - (b - a) * phi\n",
    "            f1, f2 = f2, f(x2)\n",
    "    return round((a + b)/2, 4)\n",
    "\n",
    "f_min = golden_section_method(f, -a, a)\n",
    "g_min = golden_section_method(g, -a, a)\n",
    "g2_min = golden_section_method(g, -2*a, -a)\n",
    "print(f_min, g_min)"
   ],
   "metadata": {
    "collapsed": false,
    "ExecuteTime": {
     "end_time": "2023-09-25T17:55:08.380086200Z",
     "start_time": "2023-09-25T17:55:08.334085800Z"
    }
   }
  },
  {
   "cell_type": "markdown",
   "metadata": {
    "id": "efml9GzISC9Q"
   },
   "source": [
    "# Задание 4"
   ]
  },
  {
   "cell_type": "markdown",
   "metadata": {
    "id": "SDZvKcsTVbAW"
   },
   "source": [
    "Постройте графики для функций из предыдущего задания и отметьте другим цветом на графиках точки найденных минимумов."
   ]
  },
  {
   "cell_type": "code",
   "execution_count": 29,
   "outputs": [
    {
     "data": {
      "text/plain": "<Figure size 640x480 with 1 Axes>",
      "image/png": "[encoded data removed]"
     },
     "metadata": {},
     "output_type": "display_data"
    }
   ],
   "source": [
    "import matplotlib.pyplot as plt\n",
    "\n",
    "def plot_function(func: callable, min: float, ):\n",
    "    x = np.linspace(-10, 4, 100)\n",
    "    y = list(map(func, x))\n",
    "    \n",
    "    plt.plot(x, y)\n",
    "    plt.plot(min, func(min), \"ro\")\n",
    "    plt.grid(ls=\"--\")\n",
    "    \n",
    "plot_function(f, f_min)\n",
    "plot_function(g, g_min)\n",
    "plot_function(g, g2_min)\n",
    "\n",
    "plt.show()\n"
   ],
   "metadata": {
    "collapsed": false,
    "ExecuteTime": {
     "end_time": "2023-09-22T11:48:00.646039800Z",
     "start_time": "2023-09-22T11:48:00.359952900Z"
    }
   }
  },
  {
   "cell_type": "markdown",
   "metadata": {
    "id": "mrby3EfiSDKJ"
   },
   "source": [
    "# Задание 5"
   ]
  },
  {
   "cell_type": "markdown",
   "metadata": {
    "id": "J6AZ8785VkQd"
   },
   "source": [
    "1000 человек бросают монетку. Каждый бросил 10 раз подряд.\n",
    "\n",
    " 1. Какова вероятность того, что хотя бы у одного человека монетка выпала 10 раз подряд той же самой стороной (орлом или решкой)?\n",
    " 2. Какова вероятность того, что хотя бы у одного человека монетка выпала 8 раз подряд той же самой стороной (орлом или решкой)?\n",
    " 3. Какова вероятность того, что ровно у троих человек из 1000 монетка выпала 10 раз подряд той же самой стороной (орлом или решкой)?"
   ]
  },
  {
   "cell_type": "markdown",
   "source": [
    "1) Какова вероятность того, что хотя бы у одного человека монетка выпала 10 раз подряд той же самой стороной (орлом или решкой)?   \n",
    "\n",
    "Посчитаем вероятность нашего события для одного человека:\n",
    "$$P_{10} = \\frac{2}{2^{10}}$$\n",
    "Теперь, используя схему бернулли, посчитаем вероятность того, что это событие не произойдёт ни разу за 1000 человек:\n",
    "$$P(S_{1000} = 0) = C_{1000}^0 (\\frac{2}{2^{10}})^0(1-\\frac{2}{2^{10}})^{1000}$$\n",
    "Вероятность же того, что хотя бы одному человеку выпадет 10 раз подряд орёл/решка будет равна:\n",
    "$$P = 1 - P(S_{1000} = 0)$$"
   ],
   "metadata": {
    "collapsed": false
   }
  },
  {
   "cell_type": "code",
   "execution_count": 2,
   "outputs": [
    {
     "name": "stdout",
     "output_type": "stream",
     "text": [
      "0.858440454732242\n"
     ]
    }
   ],
   "source": [
    "P = 1 - (1 - 2 / 2 ** 10) ** 1000\n",
    "print(P)"
   ],
   "metadata": {
    "collapsed": false,
    "ExecuteTime": {
     "end_time": "2023-09-22T10:23:51.421454Z",
     "start_time": "2023-09-22T10:23:51.317381600Z"
    }
   }
  },
  {
   "cell_type": "markdown",
   "source": [
    "2. Какова вероятность того, что хотя бы у одного человека монетка выпала 8 раз подряд той же самой стороной (орлом или решкой)?\n",
    "\n",
    "В этом пункте у нас схожая схема, за исключением того, что для подсчёта вероятности события для одного человека нам нужно будет воспользоваться следующей формулой:\n",
    "$$P_8 = \\frac{\\overline{C}_3^2} {2^{10}}$$\n",
    "И уже эту посчитанную вероятность мы подставляем в схему бернулли"
   ],
   "metadata": {
    "collapsed": false
   }
  },
  {
   "cell_type": "code",
   "execution_count": 4,
   "outputs": [
    {
     "name": "stdout",
     "output_type": "stream",
     "text": [
      "0.9971957200884372\n"
     ]
    }
   ],
   "source": [
    "P = 1 - (1 - 6 / 2 ** 10) ** 1000\n",
    "print(P)"
   ],
   "metadata": {
    "collapsed": false,
    "ExecuteTime": {
     "end_time": "2023-09-22T10:24:13.614332700Z",
     "start_time": "2023-09-22T10:24:13.575318500Z"
    }
   }
  },
  {
   "cell_type": "markdown",
   "source": [
    "3. Какова вероятность того, что ровно у троих человек из 1000 монетка выпала 10 раз подряд той же самой стороной (орлом или решкой)?\n",
    "\n",
    "Тут задача предельно проста. Нам всего лишь нужно расписать схему Бернулли для трёх успехов вместо ни одного:\n",
    "$$P(S_{1000} = 3) = C_{1000}^3 (\\frac{2}{2^{10}})^3(1-\\frac{2}{2^{10}})^{997}$$ "
   ],
   "metadata": {
    "collapsed": false
   }
  },
  {
   "cell_type": "code",
   "execution_count": 10,
   "outputs": [
    {
     "name": "stdout",
     "output_type": "stream",
     "text": [
      "0.1762873858121736\n"
     ]
    }
   ],
   "source": [
    "P = 333 * 500 * 998 * (2 / 2 ** 10) ** 3 * (1 - 2 / 2 ** 10) ** 997\n",
    "print(P)"
   ],
   "metadata": {
    "collapsed": false,
    "ExecuteTime": {
     "end_time": "2023-09-22T11:31:59.377384300Z",
     "start_time": "2023-09-22T11:31:59.355074200Z"
    }
   }
  }
 ]
}
